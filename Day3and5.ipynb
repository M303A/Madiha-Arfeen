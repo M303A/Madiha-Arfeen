{
 "cells": [
  {
   "cell_type": "code",
   "execution_count": 1,
   "id": "985ac808",
   "metadata": {},
   "outputs": [
    {
     "name": "stdout",
     "output_type": "stream",
     "text": [
      "14\n"
     ]
    }
   ],
   "source": [
    "#function that gives sum of numbers in the list#\n",
    "def list_sum(x):\n",
    "    sum=0\n",
    "    for i in x:\n",
    "        sum=sum+i\n",
    "    return sum\n",
    "print(list_sum([2,3,4,5]))\n"
   ]
  },
  {
   "cell_type": "code",
   "execution_count": 2,
   "id": "ebd5ccb3",
   "metadata": {},
   "outputs": [
    {
     "name": "stdout",
     "output_type": "stream",
     "text": [
      "4\n"
     ]
    }
   ],
   "source": [
    "# function that gives count of number of vowels in given string\n",
    "def vowel_count(str):\n",
    "    count=0\n",
    "    str=str.lower()\n",
    "    v=['a','e','i','o','u']\n",
    "    for i in str:\n",
    "        if i in v:\n",
    "            count+=1\n",
    "    return count\n",
    "print(vowel_count(\"SampleSpace\"))"
   ]
  },
  {
   "cell_type": "code",
   "execution_count": 3,
   "id": "5d001891",
   "metadata": {},
   "outputs": [],
   "source": [
    "#Encryption problem\n"
   ]
  },
  {
   "cell_type": "code",
   "execution_count": 5,
   "id": "fcf72dba",
   "metadata": {},
   "outputs": [
    {
     "name": "stdout",
     "output_type": "stream",
     "text": [
      "97\n",
      "a\n"
     ]
    }
   ],
   "source": [
    "print(ord('a'))\n",
    "print(chr(97))"
   ]
  },
  {
   "cell_type": "code",
   "execution_count": 8,
   "id": "92fe6c7d",
   "metadata": {},
   "outputs": [
    {
     "name": "stdout",
     "output_type": "stream",
     "text": [
      "vmxibkg**gsrh**nvhhztv**fhrmt**kbgslm!\n"
     ]
    }
   ],
   "source": [
    "message=\"Encrypt this message using python!\"\n",
    "encrypted_message=\"\"\n",
    "for i in message.lower():\n",
    "    if i.isalpha():\n",
    "        encrypted_message+=chr(219-ord(i))  \n",
    "    elif i==\" \":\n",
    "        encrypted_message+=\"**\"\n",
    "    else:\n",
    "        encrypted_message+=i\n",
    "        \n",
    "print(encrypted_message)"
   ]
  },
  {
   "cell_type": "code",
   "execution_count": null,
   "id": "be26105b",
   "metadata": {},
   "outputs": [],
   "source": []
  }
 ],
 "metadata": {
  "kernelspec": {
   "display_name": "Python 3 (ipykernel)",
   "language": "python",
   "name": "python3"
  },
  "language_info": {
   "codemirror_mode": {
    "name": "ipython",
    "version": 3
   },
   "file_extension": ".py",
   "mimetype": "text/x-python",
   "name": "python",
   "nbconvert_exporter": "python",
   "pygments_lexer": "ipython3",
   "version": "3.10.9"
  }
 },
 "nbformat": 4,
 "nbformat_minor": 5
}
