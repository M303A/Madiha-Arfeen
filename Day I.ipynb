{
 "cells": [
  {
   "cell_type": "code",
   "execution_count": null,
   "id": "b019c0ed",
   "metadata": {},
   "outputs": [],
   "source": []
  },
  {
   "cell_type": "code",
   "execution_count": 1,
   "id": "1a18f041",
   "metadata": {},
   "outputs": [
    {
     "data": {
      "text/plain": [
       "False"
      ]
     },
     "execution_count": 1,
     "metadata": {},
     "output_type": "execute_result"
    }
   ],
   "source": [
    "\"i\" not in \"print\""
   ]
  },
  {
   "cell_type": "code",
   "execution_count": 2,
   "id": "c3997119",
   "metadata": {},
   "outputs": [
    {
     "data": {
      "text/plain": [
       "4"
      ]
     },
     "execution_count": 2,
     "metadata": {},
     "output_type": "execute_result"
    }
   ],
   "source": [
    "2**2"
   ]
  },
  {
   "cell_type": "code",
   "execution_count": 3,
   "id": "c4cf7772",
   "metadata": {},
   "outputs": [
    {
     "data": {
      "text/plain": [
       "9"
      ]
     },
     "execution_count": 3,
     "metadata": {},
     "output_type": "execute_result"
    }
   ],
   "source": [
    "3**2"
   ]
  },
  {
   "cell_type": "code",
   "execution_count": 4,
   "id": "80bcd158",
   "metadata": {},
   "outputs": [
    {
     "data": {
      "text/plain": [
       "16"
      ]
     },
     "execution_count": 4,
     "metadata": {},
     "output_type": "execute_result"
    }
   ],
   "source": [
    "4**2"
   ]
  },
  {
   "cell_type": "code",
   "execution_count": 6,
   "id": "e567db9d",
   "metadata": {},
   "outputs": [
    {
     "name": "stdout",
     "output_type": "stream",
     "text": [
      "0\n",
      "1\n",
      "2\n",
      "3\n",
      "4\n",
      "5\n",
      "6\n",
      "7\n",
      "8\n",
      "9\n"
     ]
    }
   ],
   "source": [
    "for i in range(10):\n",
    "    print(i)"
   ]
  },
  {
   "cell_type": "code",
   "execution_count": 7,
   "id": "01781f72",
   "metadata": {},
   "outputs": [
    {
     "name": "stdout",
     "output_type": "stream",
     "text": [
      "2\n",
      "3\n",
      "4\n",
      "5\n",
      "6\n",
      "7\n",
      "8\n",
      "9\n"
     ]
    }
   ],
   "source": [
    "for i in range(2,10):\n",
    "    print(i)"
   ]
  },
  {
   "cell_type": "code",
   "execution_count": 10,
   "id": "76c1ae9c",
   "metadata": {},
   "outputs": [
    {
     "name": "stdout",
     "output_type": "stream",
     "text": [
      "0\n",
      "4\n",
      "16\n",
      "36\n",
      "64\n"
     ]
    }
   ],
   "source": [
    "for i in range(0,10,2):\n",
    "    print(i**2)"
   ]
  },
  {
   "cell_type": "code",
   "execution_count": 13,
   "id": "7d7dc20e",
   "metadata": {},
   "outputs": [
    {
     "name": "stdout",
     "output_type": "stream",
     "text": [
      "100\n",
      "400\n",
      "900\n",
      "1600\n",
      "2500\n",
      "3600\n",
      "4900\n",
      "6400\n",
      "8100\n",
      "10000\n"
     ]
    }
   ],
   "source": [
    "for i in range(10,101,10):\n",
    "    print(i**2)"
   ]
  },
  {
   "cell_type": "code",
   "execution_count": 15,
   "id": "8154bf45",
   "metadata": {},
   "outputs": [
    {
     "name": "stdout",
     "output_type": "stream",
     "text": [
      "Enter the number?34\n",
      "It is even\n"
     ]
    }
   ],
   "source": [
    "n=int(input(\"Enter the number?\"))\n",
    "if n%2==0:\n",
    "    print(\"It is even\")\n",
    "else:\n",
    "    print(\"It is odd\")"
   ]
  },
  {
   "cell_type": "code",
   "execution_count": 2,
   "id": "1d88ac7d",
   "metadata": {},
   "outputs": [
    {
     "name": "stdout",
     "output_type": "stream",
     "text": [
      "[10, 56] [4.5, 45.6] ['read', 'IOI']\n"
     ]
    }
   ],
   "source": [
    "list=[10,\"read\",56,4.5,\"IOI\",45.6]\n",
    "intlist=[]\n",
    "strlist=[]\n",
    "floatlist=[]\n",
    "for i in list:\n",
    "    if type(i)==str:\n",
    "        strlist.append(i)\n",
    "    elif type(i)==int:\n",
    "        intlist.append(i)\n",
    "    else:\n",
    "        floatlist.append(i)\n",
    "print(intlist,floatlist,strlist)\n"
   ]
  },
  {
   "cell_type": "code",
   "execution_count": 3,
   "id": "a08db3fe",
   "metadata": {},
   "outputs": [
    {
     "name": "stdout",
     "output_type": "stream",
     "text": [
      "[10, 56] [4.5, 45.6] ['read', 'IOI']\n"
     ]
    }
   ],
   "source": [
    "intlist=[i for i in list if type(i)==int]\n",
    "strlist=[i for i in list if type(i)==str]\n",
    "floatlist=[i for i in list if type(i)==float]\n",
    "print(intlist,floatlist,strlist)"
   ]
  },
  {
   "cell_type": "code",
   "execution_count": 4,
   "id": "c8032e08",
   "metadata": {},
   "outputs": [
    {
     "data": {
      "text/plain": [
       "'e'"
      ]
     },
     "execution_count": 4,
     "metadata": {},
     "output_type": "execute_result"
    }
   ],
   "source": [
    "list[1][1]"
   ]
  },
  {
   "cell_type": "code",
   "execution_count": 8,
   "id": "7f22120a",
   "metadata": {},
   "outputs": [],
   "source": [
    "def add(x,y):\n",
    "    return(x+y)\n"
   ]
  },
  {
   "cell_type": "code",
   "execution_count": 10,
   "id": "4b45f8b5",
   "metadata": {},
   "outputs": [
    {
     "data": {
      "text/plain": [
       "6"
      ]
     },
     "execution_count": 10,
     "metadata": {},
     "output_type": "execute_result"
    }
   ],
   "source": [
    "add(2,4)"
   ]
  },
  {
   "cell_type": "code",
   "execution_count": 12,
   "id": "814ab0cf",
   "metadata": {},
   "outputs": [],
   "source": [
    "def separate(x):\n",
    "    intlist=[i for i in x if type(i)==int]\n",
    "    strlist=[i for i in x if type(i)==str]\n",
    "    floatlist=[i for i in x if type(i)==float]\n",
    "    return intlist,floatlist,strlist\n",
    "\n",
    "    "
   ]
  },
  {
   "cell_type": "code",
   "execution_count": 13,
   "id": "643765ca",
   "metadata": {},
   "outputs": [
    {
     "name": "stdout",
     "output_type": "stream",
     "text": [
      "([12, 56], [9.56], ['the'])\n"
     ]
    }
   ],
   "source": [
    "print(separate([12,\"the\",9.56,56]))"
   ]
  },
  {
   "cell_type": "code",
   "execution_count": 14,
   "id": "7e5a5329",
   "metadata": {},
   "outputs": [
    {
     "name": "stdout",
     "output_type": "stream",
     "text": [
      "55\n"
     ]
    }
   ],
   "source": [
    "def recursum(n):\n",
    "    if n<=1:\n",
    "        return n\n",
    "    return n+recursum(n-1)\n",
    "n=10\n",
    "print(recursum(n))"
   ]
  },
  {
   "cell_type": "code",
   "execution_count": 15,
   "id": "e89ecd45",
   "metadata": {},
   "outputs": [
    {
     "name": "stdout",
     "output_type": "stream",
     "text": [
      "Fibonacci series:\n",
      "0\n",
      "1\n",
      "1\n",
      "2\n",
      "3\n"
     ]
    }
   ],
   "source": [
    "def recursive_fibonacci(n):\n",
    "    if n <= 1:\n",
    "        return n\n",
    "    else:\n",
    "        return(recursive_fibonacci(n-1) + recursive_fibonacci(n-2))\n",
    "n_terms = 5\n",
    "if n_terms <= 0:\n",
    "    print(\"Invalid input ! Please input a positive value\")\n",
    "else:\n",
    "    print(\"Fibonacci series:\")\n",
    "for i in range(n_terms):\n",
    "    print(recursive_fibonacci(i))"
   ]
  },
  {
   "cell_type": "code",
   "execution_count": 19,
   "id": "e20193a9",
   "metadata": {},
   "outputs": [
    {
     "name": "stdout",
     "output_type": "stream",
     "text": [
      "20\n"
     ]
    }
   ],
   "source": [
    "def recursive_fact(n):\n",
    "    if n>=1:\n",
    "        return n*(n-1)\n",
    "    else:\n",
    "        return(\"enter the valid number\")\n",
    "n=5\n",
    "print(recursive_fact(n))"
   ]
  },
  {
   "cell_type": "code",
   "execution_count": 26,
   "id": "b8ff3824",
   "metadata": {},
   "outputs": [
    {
     "name": "stdout",
     "output_type": "stream",
     "text": [
      "0\n",
      "1\n",
      "2\n",
      "3\n",
      "4\n",
      "5\n",
      "6\n",
      "7\n",
      "8\n",
      "9\n",
      "10\n",
      "11\n",
      "12\n",
      "13\n",
      "14\n",
      "15\n",
      "16\n",
      "17\n",
      "18\n",
      "19\n",
      "20\n",
      "21\n",
      "22\n",
      "23\n",
      "24\n",
      "25\n",
      "26\n",
      "27\n",
      "28\n",
      "29\n",
      "30\n",
      "31\n",
      "32\n",
      "33\n",
      "34\n",
      "35\n",
      "36\n",
      "37\n",
      "38\n",
      "39\n",
      "40\n",
      "41\n",
      "42\n",
      "43\n",
      "44\n",
      "45\n",
      "46\n",
      "47\n",
      "48\n",
      "49\n",
      "50\n",
      "51\n",
      "52\n",
      "53\n",
      "54\n",
      "55\n",
      "56\n",
      "57\n",
      "58\n",
      "59\n",
      "60\n",
      "61\n",
      "62\n",
      "63\n",
      "64\n",
      "65\n",
      "66\n",
      "67\n",
      "68\n",
      "69\n",
      "70\n",
      "71\n",
      "72\n",
      "73\n",
      "74\n",
      "75\n",
      "76\n",
      "77\n",
      "78\n",
      "79\n",
      "80\n",
      "81\n",
      "82\n",
      "83\n",
      "84\n",
      "85\n",
      "86\n",
      "87\n",
      "88\n",
      "89\n",
      "90\n",
      "91\n",
      "92\n",
      "93\n",
      "94\n",
      "95\n",
      "96\n",
      "97\n",
      "98\n",
      "99\n"
     ]
    }
   ],
   "source": [
    "def gen_num(n):\n",
    "    v=0\n",
    "    while v<n:\n",
    "        yield v\n",
    "        v+=1\n",
    "for v in gen_num(100):\n",
    "    print(v)"
   ]
  },
  {
   "cell_type": "code",
   "execution_count": 1,
   "id": "91e7c616",
   "metadata": {},
   "outputs": [],
   "source": [
    "dict1={\"Jay\":[1998,\"Hyderabad\"],\"Prajyot\":[1995,\"Hyderabad\"],\"Sudhil\":[1989,\"Delhi\"],\"Sonu\":[1982,\"Delhi\"]}\n"
   ]
  },
  {
   "cell_type": "code",
   "execution_count": 2,
   "id": "c2c6ea42",
   "metadata": {},
   "outputs": [
    {
     "data": {
      "text/plain": [
       "[1998, 'Hyderabad']"
      ]
     },
     "execution_count": 2,
     "metadata": {},
     "output_type": "execute_result"
    }
   ],
   "source": [
    "dict1[\"Jay\"]"
   ]
  },
  {
   "cell_type": "code",
   "execution_count": 4,
   "id": "1e9a1538",
   "metadata": {},
   "outputs": [
    {
     "name": "stdout",
     "output_type": "stream",
     "text": [
      "Jay\n",
      "Prajyot\n",
      "Sudhil\n",
      "Sonu\n"
     ]
    }
   ],
   "source": [
    "count=0\n",
    "for i in dict1.keys():\n",
    "    print(i)"
   ]
  },
  {
   "cell_type": "code",
   "execution_count": 5,
   "id": "7e8acd4f",
   "metadata": {},
   "outputs": [
    {
     "data": {
      "text/plain": [
       "4"
      ]
     },
     "execution_count": 5,
     "metadata": {},
     "output_type": "execute_result"
    }
   ],
   "source": [
    "count=0\n",
    "for i in dict1.keys():\n",
    "    if type(dict1[i])==list:\n",
    "        count=count+1\n",
    "count"
   ]
  },
  {
   "cell_type": "code",
   "execution_count": 10,
   "id": "6b5c15f8",
   "metadata": {},
   "outputs": [
    {
     "name": "stdout",
     "output_type": "stream",
     "text": [
      "Your code has error\n",
      "Your code has run successfully\n"
     ]
    }
   ],
   "source": [
    "x=50\n",
    "y=0\n",
    "try:\n",
    "    x/y #ZeroDivisionError\n",
    "except:\n",
    "    print(\"Your code has error\")\n",
    "finally:\n",
    "    print(\"Your code has run successfully\")\n",
    "    "
   ]
  },
  {
   "cell_type": "code",
   "execution_count": 9,
   "id": "8a5ffad3",
   "metadata": {},
   "outputs": [
    {
     "name": "stdout",
     "output_type": "stream",
     "text": [
      "10.0\n",
      "Your code has run successfully\n"
     ]
    }
   ],
   "source": [
    "x=50\n",
    "y=5\n",
    "try:\n",
    "    x/y #ZeroDivisionError\n",
    "except:\n",
    "    print(\"Your code has error\")\n",
    "else:\n",
    "    print(x/y)\n",
    "finally:\n",
    "    print(\"Your code has run successfully\")\n",
    "    "
   ]
  },
  {
   "cell_type": "code",
   "execution_count": 15,
   "id": "9696bdd9",
   "metadata": {},
   "outputs": [],
   "source": [
    "dict1={\"Jay\":[1998,\"Hyderabad\"],\"Prajyot\":[1995,\"Hyderabad\"],\"Sudhil\":[1989,\"Delhi\"],\"Sonu\":[1982,\"Delhi\"]}\n",
    "import pandas as pd\n",
    "df=pd.DataFrame(dict1)"
   ]
  },
  {
   "cell_type": "code",
   "execution_count": 14,
   "id": "10a6ee3f",
   "metadata": {},
   "outputs": [
    {
     "data": {
      "text/html": [
       "<div>\n",
       "<style scoped>\n",
       "    .dataframe tbody tr th:only-of-type {\n",
       "        vertical-align: middle;\n",
       "    }\n",
       "\n",
       "    .dataframe tbody tr th {\n",
       "        vertical-align: top;\n",
       "    }\n",
       "\n",
       "    .dataframe thead th {\n",
       "        text-align: right;\n",
       "    }\n",
       "</style>\n",
       "<table border=\"1\" class=\"dataframe\">\n",
       "  <thead>\n",
       "    <tr style=\"text-align: right;\">\n",
       "      <th></th>\n",
       "      <th>Jay</th>\n",
       "      <th>Prajyot</th>\n",
       "      <th>Sudhil</th>\n",
       "      <th>Sonu</th>\n",
       "    </tr>\n",
       "  </thead>\n",
       "  <tbody>\n",
       "    <tr>\n",
       "      <th>0</th>\n",
       "      <td>1998</td>\n",
       "      <td>1995</td>\n",
       "      <td>1989</td>\n",
       "      <td>1982</td>\n",
       "    </tr>\n",
       "    <tr>\n",
       "      <th>1</th>\n",
       "      <td>Hyderabad</td>\n",
       "      <td>Hyderabad</td>\n",
       "      <td>Delhi</td>\n",
       "      <td>Delhi</td>\n",
       "    </tr>\n",
       "  </tbody>\n",
       "</table>\n",
       "</div>"
      ],
      "text/plain": [
       "         Jay    Prajyot Sudhil   Sonu\n",
       "0       1998       1995   1989   1982\n",
       "1  Hyderabad  Hyderabad  Delhi  Delhi"
      ]
     },
     "execution_count": 14,
     "metadata": {},
     "output_type": "execute_result"
    }
   ],
   "source": [
    "df"
   ]
  },
  {
   "cell_type": "code",
   "execution_count": 17,
   "id": "e3f0c2f5",
   "metadata": {},
   "outputs": [],
   "source": [
    "df.to_csv(\"dictionary.csv\")"
   ]
  },
  {
   "cell_type": "code",
   "execution_count": 18,
   "id": "9fcb14ac",
   "metadata": {},
   "outputs": [],
   "source": [
    "df.to_excel(\"dictionary.xlsx\")"
   ]
  },
  {
   "cell_type": "code",
   "execution_count": 33,
   "id": "70ff8f8d",
   "metadata": {},
   "outputs": [],
   "source": [
    "file=open(\"text1.txt\",'w')\n",
    "file.write(\"This is first line\\n\")\n",
    "file.close()"
   ]
  },
  {
   "cell_type": "code",
   "execution_count": 34,
   "id": "46845ca9",
   "metadata": {},
   "outputs": [],
   "source": [
    "file=open(\"text1.txt\",'a')\n",
    "file.write(\"This is second line\\n\")\n",
    "file.close()"
   ]
  },
  {
   "cell_type": "code",
   "execution_count": 35,
   "id": "adf93287",
   "metadata": {},
   "outputs": [
    {
     "name": "stdout",
     "output_type": "stream",
     "text": [
      "This is first line\n",
      "This is second line\n",
      "\n"
     ]
    }
   ],
   "source": [
    "file=open(\"text1.txt\",'r')\n",
    "print(file.read())"
   ]
  },
  {
   "cell_type": "code",
   "execution_count": 36,
   "id": "f3eba6e8",
   "metadata": {},
   "outputs": [
    {
     "name": "stdout",
     "output_type": "stream",
     "text": [
      "This is first line\n",
      "This is second line\n",
      "\n"
     ]
    }
   ],
   "source": [
    "with open(\"text1.txt\",'r')as file:\n",
    "    print(file.read())"
   ]
  },
  {
   "cell_type": "code",
   "execution_count": 37,
   "id": "ac2f818c",
   "metadata": {},
   "outputs": [
    {
     "name": "stdout",
     "output_type": "stream",
     "text": [
      "['This', 'is', 'first', 'line', 'This', 'is', 'second', 'line']\n"
     ]
    }
   ],
   "source": [
    "with open(\"text1.txt\",'r')as file:\n",
    "    word_list=file.read().split()\n",
    "    print(word_list)"
   ]
  },
  {
   "cell_type": "code",
   "execution_count": 38,
   "id": "9c67ce8f",
   "metadata": {},
   "outputs": [
    {
     "name": "stdout",
     "output_type": "stream",
     "text": [
      "This 4\n",
      "is 2\n",
      "first 5\n",
      "line 4\n",
      "This 4\n",
      "is 2\n",
      "second 6\n",
      "line 4\n"
     ]
    }
   ],
   "source": [
    "for i in word_list:\n",
    "    print(i,len(i))"
   ]
  },
  {
   "cell_type": "code",
   "execution_count": 43,
   "id": "7e9649c1",
   "metadata": {},
   "outputs": [
    {
     "name": "stdout",
     "output_type": "stream",
     "text": [
      "['This', 'is', 'first', 'line', 'This', 'is', 'second', 'line']\n",
      "This 4\n",
      "is 2\n",
      "first 5\n",
      "line 4\n",
      "This 4\n",
      "is 2\n",
      "second 6\n",
      "line 4\n",
      "Longest word is second\n"
     ]
    }
   ],
   "source": [
    "#finding longest word\n",
    "with open(\"text1.txt\",'r')as file:\n",
    "    word_list=file.read().split()\n",
    "    print(word_list)\n",
    "    len_word=[]\n",
    "    for i in word_list:\n",
    "        print(i,len(i))\n",
    "        len_word.append(len(i))\n",
    "print(\"Longest word is\",max(word_list))\n",
    "\n",
    "    \n",
    "    "
   ]
  },
  {
   "cell_type": "code",
   "execution_count": 44,
   "id": "237ad66e",
   "metadata": {},
   "outputs": [
    {
     "name": "stdout",
     "output_type": "stream",
     "text": [
      "second\n"
     ]
    }
   ],
   "source": [
    "def longest_word(file):\n",
    "    with open(file,'r')as f:\n",
    "        words=f.read().split()\n",
    "        return(max(words,key=len))\n",
    "print(longest_word(\"text1.txt\"))"
   ]
  },
  {
   "cell_type": "code",
   "execution_count": 47,
   "id": "9dd099bc",
   "metadata": {},
   "outputs": [],
   "source": [
    "df=pd.read_csv(\"dictionary.csv\")"
   ]
  },
  {
   "cell_type": "code",
   "execution_count": 48,
   "id": "393c7fae",
   "metadata": {},
   "outputs": [
    {
     "data": {
      "text/html": [
       "<div>\n",
       "<style scoped>\n",
       "    .dataframe tbody tr th:only-of-type {\n",
       "        vertical-align: middle;\n",
       "    }\n",
       "\n",
       "    .dataframe tbody tr th {\n",
       "        vertical-align: top;\n",
       "    }\n",
       "\n",
       "    .dataframe thead th {\n",
       "        text-align: right;\n",
       "    }\n",
       "</style>\n",
       "<table border=\"1\" class=\"dataframe\">\n",
       "  <thead>\n",
       "    <tr style=\"text-align: right;\">\n",
       "      <th></th>\n",
       "      <th>Unnamed: 0</th>\n",
       "      <th>Jay</th>\n",
       "      <th>Prajyot</th>\n",
       "      <th>Sudhil</th>\n",
       "      <th>Sonu</th>\n",
       "    </tr>\n",
       "  </thead>\n",
       "  <tbody>\n",
       "    <tr>\n",
       "      <th>0</th>\n",
       "      <td>0</td>\n",
       "      <td>1998</td>\n",
       "      <td>1995</td>\n",
       "      <td>1989</td>\n",
       "      <td>1982</td>\n",
       "    </tr>\n",
       "    <tr>\n",
       "      <th>1</th>\n",
       "      <td>1</td>\n",
       "      <td>Hyderabad</td>\n",
       "      <td>Hyderabad</td>\n",
       "      <td>Delhi</td>\n",
       "      <td>Delhi</td>\n",
       "    </tr>\n",
       "  </tbody>\n",
       "</table>\n",
       "</div>"
      ],
      "text/plain": [
       "   Unnamed: 0        Jay    Prajyot Sudhil   Sonu\n",
       "0           0       1998       1995   1989   1982\n",
       "1           1  Hyderabad  Hyderabad  Delhi  Delhi"
      ]
     },
     "execution_count": 48,
     "metadata": {},
     "output_type": "execute_result"
    }
   ],
   "source": [
    "df"
   ]
  },
  {
   "cell_type": "code",
   "execution_count": 55,
   "id": "306e953b",
   "metadata": {},
   "outputs": [],
   "source": [
    "t = lambda x:x**2"
   ]
  },
  {
   "cell_type": "code",
   "execution_count": 56,
   "id": "a61e5766",
   "metadata": {},
   "outputs": [
    {
     "data": {
      "text/plain": [
       "16"
      ]
     },
     "execution_count": 56,
     "metadata": {},
     "output_type": "execute_result"
    }
   ],
   "source": [
    "t(4)"
   ]
  },
  {
   "cell_type": "code",
   "execution_count": 58,
   "id": "8df463bd",
   "metadata": {},
   "outputs": [
    {
     "name": "stdout",
     "output_type": "stream",
     "text": [
      "[5, 7, 9, 11]\n"
     ]
    }
   ],
   "source": [
    "l1=[2,4,5,7,8,9,11]\n",
    "odd_num=list(filter(lambda i:i%2!=0,l1))\n",
    "print(odd_num)"
   ]
  },
  {
   "cell_type": "code",
   "execution_count": 74,
   "id": "c99dc0bf",
   "metadata": {},
   "outputs": [],
   "source": [
    "fruit_list=[[\"Mango\",200],[\"Grapes\",140],[\"Apples\",98]]\n",
    "fruit_list.sort()#sort according to alphabets"
   ]
  },
  {
   "cell_type": "code",
   "execution_count": 68,
   "id": "3247e833",
   "metadata": {},
   "outputs": [
    {
     "data": {
      "text/plain": [
       "[['Apples', 98], ['Grapes', 140], ['Mango', 200]]"
      ]
     },
     "execution_count": 68,
     "metadata": {},
     "output_type": "execute_result"
    }
   ],
   "source": [
    "fruit_list"
   ]
  },
  {
   "cell_type": "code",
   "execution_count": 70,
   "id": "9a07d6c5",
   "metadata": {},
   "outputs": [
    {
     "data": {
      "text/plain": [
       "[['Apples', 98], ['Grapes', 140], ['Mango', 200]]"
      ]
     },
     "execution_count": 70,
     "metadata": {},
     "output_type": "execute_result"
    }
   ],
   "source": [
    "fruit_list.sort(key=lambda i:i[1])#sort according to numbers\n",
    "fruit_list"
   ]
  },
  {
   "cell_type": "code",
   "execution_count": 76,
   "id": "6f6fd3f8",
   "metadata": {},
   "outputs": [
    {
     "data": {
      "text/plain": [
       "[['Apples', 98], ['Grapes', 140], ['Mango', 200]]"
      ]
     },
     "execution_count": 76,
     "metadata": {},
     "output_type": "execute_result"
    }
   ],
   "source": [
    "fruit_list.sort(key=lambda i:i[0])#sort according to alphabets\n",
    "fruit_list"
   ]
  },
  {
   "cell_type": "code",
   "execution_count": null,
   "id": "f750c89a",
   "metadata": {},
   "outputs": [],
   "source": []
  }
 ],
 "metadata": {
  "kernelspec": {
   "display_name": "Python 3 (ipykernel)",
   "language": "python",
   "name": "python3"
  },
  "language_info": {
   "codemirror_mode": {
    "name": "ipython",
    "version": 3
   },
   "file_extension": ".py",
   "mimetype": "text/x-python",
   "name": "python",
   "nbconvert_exporter": "python",
   "pygments_lexer": "ipython3",
   "version": "3.10.9"
  }
 },
 "nbformat": 4,
 "nbformat_minor": 5
}
